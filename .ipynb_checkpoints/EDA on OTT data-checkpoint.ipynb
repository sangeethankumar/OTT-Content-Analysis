{
 "cells": [
  {
   "cell_type": "markdown",
   "metadata": {},
   "source": [
    "# Exploratory Data Analysis\n",
    "\n",
    "[OTT-Content-Analysis](https://github.com/sangeethankumar/OTT-Content-Analysis)"
   ]
  },
  {
   "cell_type": "code",
   "execution_count": 1,
   "metadata": {},
   "outputs": [],
   "source": [
    "import matplotlib as mpl\n",
    "mpl.rcParams['figure.figsize'] = [12, 8]\n",
    "mpl.rcParams['figure.dpi'] = 150 # 200 e.g. is really fine, but slower\n",
    "from sklearn.preprocessing import StandardScaler\n",
    "import warnings\n",
    "warnings.filterwarnings('ignore')"
   ]
  },
  {
   "cell_type": "code",
   "execution_count": 2,
   "metadata": {},
   "outputs": [],
   "source": [
    "import numpy as np\n",
    "import pandas as pd\n",
    "import seaborn as sns\n",
    "import matplotlib.pyplot as plt\n",
    "import imdb_scrape_country as imdbC\n",
    "from IPython.display import clear_output"
   ]
  },
  {
   "cell_type": "markdown",
   "metadata": {},
   "source": [
    "Reading data"
   ]
  },
  {
   "cell_type": "code",
   "execution_count": 3,
   "metadata": {},
   "outputs": [],
   "source": [
    "netflix = pd.read_csv('data/netflix/netflix_titles.csv')\n",
    "prime = pd.read_csv('data/amazonprime/amazon_prime_titles.csv')\n",
    "disneyplus = pd.read_csv('data/disneyplus/disney_plus_titles.csv')"
   ]
  },
  {
   "cell_type": "code",
   "execution_count": 4,
   "metadata": {},
   "outputs": [
    {
     "name": "stdout",
     "output_type": "stream",
     "text": [
      "Number of columns in Netflix : 12\n",
      "Number of columns in Prime   : 12\n",
      "Number of columns in Disney+ : 12\n"
     ]
    }
   ],
   "source": [
    "print('Number of columns in Netflix : {ncols}'.format(ncols=len(netflix.columns)))\n",
    "print('Number of columns in Prime   : {ncols}'.format(ncols=len(prime.columns)))\n",
    "print('Number of columns in Disney+ : {ncols}'.format(ncols=len(disneyplus.columns)))"
   ]
  },
  {
   "cell_type": "code",
   "execution_count": 5,
   "metadata": {},
   "outputs": [
    {
     "data": {
      "text/plain": [
       "True"
      ]
     },
     "execution_count": 5,
     "metadata": {},
     "output_type": "execute_result"
    }
   ],
   "source": [
    "# check if column names are same in all three datasets\n",
    "(netflix.columns == prime.columns).any() & (netflix.columns == disneyplus.columns).any()"
   ]
  },
  {
   "cell_type": "markdown",
   "metadata": {},
   "source": [
    "The datasets of all the three OTTs have same columns"
   ]
  },
  {
   "cell_type": "code",
   "execution_count": 6,
   "metadata": {},
   "outputs": [
    {
     "name": "stdout",
     "output_type": "stream",
     "text": [
      "Number of content in Netflix : 8807\n",
      "Number of content in Prime   : 9668\n",
      "Number of content in Disney+ : 1450\n"
     ]
    }
   ],
   "source": [
    "print('Number of content in Netflix : {ncontent}'.format(ncontent=len(netflix)))\n",
    "print('Number of content in Prime   : {ncontent}'.format(ncontent=len(prime)))\n",
    "print('Number of content in Disney+ : {ncontent}'.format(ncontent=len(disneyplus)))"
   ]
  },
  {
   "cell_type": "markdown",
   "metadata": {},
   "source": [
    "Prime has the most number content and Disney+ has the least "
   ]
  },
  {
   "cell_type": "code",
   "execution_count": 7,
   "metadata": {},
   "outputs": [
    {
     "name": "stdout",
     "output_type": "stream",
     "text": [
      "Columns in the three datasets\n"
     ]
    },
    {
     "data": {
      "text/plain": [
       "Index(['show_id', 'type', 'title', 'director', 'cast', 'country', 'date_added',\n",
       "       'release_year', 'rating', 'duration', 'listed_in', 'description'],\n",
       "      dtype='object')"
      ]
     },
     "execution_count": 7,
     "metadata": {},
     "output_type": "execute_result"
    }
   ],
   "source": [
    "print(\"Columns in the three datasets\")\n",
    "netflix.columns"
   ]
  },
  {
   "cell_type": "markdown",
   "metadata": {},
   "source": [
    "Merging the datasets together"
   ]
  },
  {
   "cell_type": "code",
   "execution_count": 8,
   "metadata": {},
   "outputs": [],
   "source": [
    "netflix['platform'] = 'Netflix'\n",
    "prime['platform'] = 'Prime'\n",
    "disneyplus['platform'] = 'Disney+'"
   ]
  },
  {
   "cell_type": "code",
   "execution_count": 9,
   "metadata": {},
   "outputs": [],
   "source": [
    "ott = netflix.append(prime).append(disneyplus)"
   ]
  },
  {
   "cell_type": "code",
   "execution_count": 10,
   "metadata": {},
   "outputs": [
    {
     "name": "stdout",
     "output_type": "stream",
     "text": [
      "<class 'pandas.core.frame.DataFrame'>\n",
      "Int64Index: 19925 entries, 0 to 1449\n",
      "Data columns (total 13 columns):\n",
      " #   Column        Non-Null Count  Dtype \n",
      "---  ------        --------------  ----- \n",
      " 0   show_id       19925 non-null  object\n",
      " 1   type          19925 non-null  object\n",
      " 2   title         19925 non-null  object\n",
      " 3   director      14736 non-null  object\n",
      " 4   cast          17677 non-null  object\n",
      " 5   country       9879 non-null   object\n",
      " 6   date_added    10399 non-null  object\n",
      " 7   release_year  19925 non-null  int64 \n",
      " 8   rating        19581 non-null  object\n",
      " 9   duration      19922 non-null  object\n",
      " 10  listed_in     19925 non-null  object\n",
      " 11  description   19925 non-null  object\n",
      " 12  platform      19925 non-null  object\n",
      "dtypes: int64(1), object(12)\n",
      "memory usage: 2.1+ MB\n"
     ]
    }
   ],
   "source": [
    "ott.info()"
   ]
  },
  {
   "cell_type": "markdown",
   "metadata": {},
   "source": [
    "Some of the OTT content is null"
   ]
  },
  {
   "cell_type": "code",
   "execution_count": 11,
   "metadata": {},
   "outputs": [
    {
     "data": {
      "text/plain": [
       "Prime      8996\n",
       "Netflix     831\n",
       "Disney+     219\n",
       "Name: platform, dtype: int64"
      ]
     },
     "execution_count": 11,
     "metadata": {},
     "output_type": "execute_result"
    }
   ],
   "source": [
    "ott['platform'][ott.country.isnull()].value_counts()"
   ]
  },
  {
   "cell_type": "markdown",
   "metadata": {},
   "source": [
    "Most of the titles with no country available are from Prime followed by Netflix"
   ]
  },
  {
   "cell_type": "code",
   "execution_count": 12,
   "metadata": {},
   "outputs": [],
   "source": [
    "# getting list of countries with null country\n",
    "null_country_title = ott['title'][ott.country.isnull()].to_list()"
   ]
  },
  {
   "cell_type": "code",
   "execution_count": 13,
   "metadata": {},
   "outputs": [
    {
     "data": {
      "text/plain": [
       "['Ganglands',\n",
       " 'Jailbirds New Orleans',\n",
       " 'Midnight Mass',\n",
       " 'My Little Pony: A New Generation',\n",
       " 'Vendetta: Truth, Lies and The Mafia',\n",
       " 'Bangkok Breaking',\n",
       " 'Confessions of an Invisible Girl',\n",
       " 'Crime Stories: India Detectives',\n",
       " \"Europe's Most Dangerous Man: Otto Skorzeny in Spain\",\n",
       " 'Intrusion']"
      ]
     },
     "execution_count": 13,
     "metadata": {},
     "output_type": "execute_result"
    }
   ],
   "source": [
    "null_country_title[:10]"
   ]
  },
  {
   "cell_type": "markdown",
   "metadata": {},
   "source": [
    "I will use the script to scrape imdb data for country of origin for these titles "
   ]
  },
  {
   "cell_type": "code",
   "execution_count": 18,
   "metadata": {},
   "outputs": [],
   "source": [
    "def country2df(title):\n",
    "    try:\n",
    "        vals = imdbC.get_country(title)\n",
    "    except:\n",
    "        vals = \"\"\n",
    "    return vals"
   ]
  },
  {
   "cell_type": "code",
   "execution_count": 19,
   "metadata": {},
   "outputs": [],
   "source": [
    "fast_c2df = np.vectorize(country2df)"
   ]
  },
  {
   "cell_type": "code",
   "execution_count": 20,
   "metadata": {},
   "outputs": [
    {
     "name": "stdout",
     "output_type": "stream",
     "text": [
      "10044 Midnight Mass\n"
     ]
    }
   ],
   "source": [
    "missing_countries = []\n",
    "tot_missing = len(null_country_title)\n",
    "for ind,nc in enumerate(null_country_title):\n",
    "    rem = tot_missing - ind\n",
    "    clear_output(wait=True)\n",
    "    print(rem,nc)\n",
    "    missing_countries.append(fast_c2df(nc))"
   ]
  },
  {
   "cell_type": "code",
   "execution_count": 21,
   "metadata": {},
   "outputs": [
    {
     "data": {
      "text/plain": [
       "[array('France', dtype='<U6'),\n",
       " array('United States', dtype='<U13'),\n",
       " array('United States', dtype='<U13')]"
      ]
     },
     "execution_count": 21,
     "metadata": {},
     "output_type": "execute_result"
    }
   ],
   "source": [
    "missing_countries"
   ]
  },
  {
   "cell_type": "code",
   "execution_count": null,
   "metadata": {},
   "outputs": [],
   "source": []
  }
 ],
 "metadata": {
  "kernelspec": {
   "display_name": "Python 3",
   "language": "python",
   "name": "python3"
  },
  "language_info": {
   "codemirror_mode": {
    "name": "ipython",
    "version": 3
   },
   "file_extension": ".py",
   "mimetype": "text/x-python",
   "name": "python",
   "nbconvert_exporter": "python",
   "pygments_lexer": "ipython3",
   "version": "3.8.10"
  }
 },
 "nbformat": 4,
 "nbformat_minor": 4
}
