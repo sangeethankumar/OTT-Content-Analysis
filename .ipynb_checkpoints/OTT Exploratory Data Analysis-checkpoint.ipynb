{
 "cells": [
  {
   "cell_type": "code",
   "execution_count": 1,
   "metadata": {},
   "outputs": [],
   "source": [
    "import matplotlib as mpl\n",
    "from matplotlib.colors import ListedColormap\n",
    "mpl.rcParams['figure.figsize'] = [12, 8]\n",
    "mpl.rcParams['figure.dpi'] = 150 # 200 e.g. is really fine, but slower\n",
    "mpl.rcParams['axes.edgecolor']='#FA6E4F'\n",
    "mpl.rcParams['font.family'] = 'monospace'\n",
    "import warnings\n",
    "warnings.filterwarnings('ignore')"
   ]
  },
  {
   "cell_type": "code",
   "execution_count": 2,
   "metadata": {},
   "outputs": [],
   "source": [
    "import numpy as np\n",
    "import pandas as pd\n",
    "import seaborn as sns\n",
    "import scipy.optimize\n",
    "import matplotlib.pyplot as plt\n",
    "from IPython.display import clear_output\n",
    "import ott_cleaning"
   ]
  },
  {
   "cell_type": "code",
   "execution_count": 3,
   "metadata": {},
   "outputs": [],
   "source": [
    "ott = pd.read_csv('data/ott_tv_movie.csv')"
   ]
  },
  {
   "cell_type": "code",
   "execution_count": 4,
   "metadata": {},
   "outputs": [
    {
     "name": "stdout",
     "output_type": "stream",
     "text": [
      "<class 'pandas.core.frame.DataFrame'>\n",
      "RangeIndex: 19925 entries, 0 to 19924\n",
      "Data columns (total 14 columns):\n",
      " #   Column        Non-Null Count  Dtype  \n",
      "---  ------        --------------  -----  \n",
      " 0   Unnamed: 0    19925 non-null  int64  \n",
      " 1   show_id       19925 non-null  object \n",
      " 2   type          19925 non-null  object \n",
      " 3   title         19925 non-null  object \n",
      " 4   country       18021 non-null  object \n",
      " 5   release_year  19925 non-null  int64  \n",
      " 6   genres        19925 non-null  object \n",
      " 7   description   19925 non-null  object \n",
      " 8   platform      19925 non-null  object \n",
      " 9   duration      14994 non-null  float64\n",
      " 10  seasons       4928 non-null   float64\n",
      " 11  num_country   19925 non-null  int64  \n",
      " 12  num_genres    19925 non-null  int64  \n",
      " 13  rating        19925 non-null  object \n",
      "dtypes: float64(2), int64(4), object(8)\n",
      "memory usage: 2.1+ MB\n"
     ]
    }
   ],
   "source": [
    "ott.info()"
   ]
  },
  {
   "cell_type": "code",
   "execution_count": 5,
   "metadata": {},
   "outputs": [],
   "source": [
    "long_palette = [\"#FA6E4F\", \"#F2CF59\", \"#FB8E7E\", \"#C5D7C0\", \"#8EC9BB\", \"#F8CA9D\", '#F69EAF', '#8F8CBC', '#7C5396', '#EA6382', '#6BEAF3', '#5A9DE2', '#DDAD64', '#EA876B', '#B98174', '#357866', '#625586', '#647B99']\n",
    "custom_palette1 = sns.color_palette(long_palette)\n",
    "\n",
    "short_palette = [\"#FA6E4F\", \"#F2CF59\", \"#FB8E7E\", \"#C5D7C0\", \"#8EC9BB\", \"#F8CA9D\"]\n",
    "custom_palette2 = sns.color_palette(short_palette)\n",
    "\n",
    "watermelon_colors = ['#84e3c8', '#a8e6cf', '#dcedc1', '#ffd3b6', '#ffaaa5', '#ff8b94', '#ff7480']\n",
    "custom_palette3 = sns.color_palette(watermelon_colors)"
   ]
  },
  {
   "cell_type": "code",
   "execution_count": 6,
   "metadata": {},
   "outputs": [
    {
     "data": {
      "image/png": "[encoded data removed]",
      "text/plain": [
       "<Figure size 1296x72 with 1 Axes>"
      ]
     },
     "metadata": {
      "needs_background": "light"
     },
     "output_type": "display_data"
    },
    {
     "data": {
      "image/png": "[encoded data removed]",
      "text/plain": [
       "<Figure size 432x72 with 1 Axes>"
      ]
     },
     "metadata": {
      "needs_background": "light"
     },
     "output_type": "display_data"
    },
    {
     "data": {
      "image/png": "[encoded data removed]",
      "text/plain": [
       "<Figure size 504x72 with 1 Axes>"
      ]
     },
     "metadata": {
      "needs_background": "light"
     },
     "output_type": "display_data"
    }
   ],
   "source": [
    "sns.palplot(sns.color_palette(long_palette))\n",
    "sns.palplot(sns.color_palette(short_palette))\n",
    "sns.palplot(sns.color_palette(watermelon_colors))"
   ]
  },
  {
   "cell_type": "code",
   "execution_count": 7,
   "metadata": {},
   "outputs": [
    {
     "data": {
      "text/html": [
       "<div>\n",
       "<style scoped>\n",
       "    .dataframe tbody tr th:only-of-type {\n",
       "        vertical-align: middle;\n",
       "    }\n",
       "\n",
       "    .dataframe tbody tr th {\n",
       "        vertical-align: top;\n",
       "    }\n",
       "\n",
       "    .dataframe thead th {\n",
       "        text-align: right;\n",
       "    }\n",
       "</style>\n",
       "<table border=\"1\" class=\"dataframe\">\n",
       "  <thead>\n",
       "    <tr style=\"text-align: right;\">\n",
       "      <th></th>\n",
       "      <th>No. of Missing values</th>\n",
       "    </tr>\n",
       "  </thead>\n",
       "  <tbody>\n",
       "    <tr>\n",
       "      <th>Unnamed: 0</th>\n",
       "      <td>0</td>\n",
       "    </tr>\n",
       "    <tr>\n",
       "      <th>show_id</th>\n",
       "      <td>0</td>\n",
       "    </tr>\n",
       "    <tr>\n",
       "      <th>type</th>\n",
       "      <td>0</td>\n",
       "    </tr>\n",
       "    <tr>\n",
       "      <th>title</th>\n",
       "      <td>0</td>\n",
       "    </tr>\n",
       "    <tr>\n",
       "      <th>country</th>\n",
       "      <td>1904</td>\n",
       "    </tr>\n",
       "    <tr>\n",
       "      <th>release_year</th>\n",
       "      <td>0</td>\n",
       "    </tr>\n",
       "    <tr>\n",
       "      <th>genres</th>\n",
       "      <td>0</td>\n",
       "    </tr>\n",
       "    <tr>\n",
       "      <th>description</th>\n",
       "      <td>0</td>\n",
       "    </tr>\n",
       "    <tr>\n",
       "      <th>platform</th>\n",
       "      <td>0</td>\n",
       "    </tr>\n",
       "    <tr>\n",
       "      <th>duration</th>\n",
       "      <td>4931</td>\n",
       "    </tr>\n",
       "    <tr>\n",
       "      <th>seasons</th>\n",
       "      <td>14997</td>\n",
       "    </tr>\n",
       "    <tr>\n",
       "      <th>num_country</th>\n",
       "      <td>0</td>\n",
       "    </tr>\n",
       "    <tr>\n",
       "      <th>num_genres</th>\n",
       "      <td>0</td>\n",
       "    </tr>\n",
       "    <tr>\n",
       "      <th>rating</th>\n",
       "      <td>0</td>\n",
       "    </tr>\n",
       "  </tbody>\n",
       "</table>\n",
       "</div>"
      ],
      "text/plain": [
       "              No. of Missing values\n",
       "Unnamed: 0                        0\n",
       "show_id                           0\n",
       "type                              0\n",
       "title                             0\n",
       "country                        1904\n",
       "release_year                      0\n",
       "genres                            0\n",
       "description                       0\n",
       "platform                          0\n",
       "duration                       4931\n",
       "seasons                       14997\n",
       "num_country                       0\n",
       "num_genres                        0\n",
       "rating                            0"
      ]
     },
     "execution_count": 7,
     "metadata": {},
     "output_type": "execute_result"
    }
   ],
   "source": [
    "# missing values\n",
    "pd.DataFrame(ott.isnull().sum(), columns=['No. of Missing values'])"
   ]
  },
  {
   "cell_type": "code",
   "execution_count": 8,
   "metadata": {},
   "outputs": [
    {
     "data": {
      "text/html": [
       "<div>\n",
       "<style scoped>\n",
       "    .dataframe tbody tr th:only-of-type {\n",
       "        vertical-align: middle;\n",
       "    }\n",
       "\n",
       "    .dataframe tbody tr th {\n",
       "        vertical-align: top;\n",
       "    }\n",
       "\n",
       "    .dataframe thead th {\n",
       "        text-align: right;\n",
       "    }\n",
       "</style>\n",
       "<table border=\"1\" class=\"dataframe\">\n",
       "  <thead>\n",
       "    <tr style=\"text-align: right;\">\n",
       "      <th></th>\n",
       "      <th>% of Missing Values</th>\n",
       "    </tr>\n",
       "  </thead>\n",
       "  <tbody>\n",
       "    <tr>\n",
       "      <th>country</th>\n",
       "      <td>9.6</td>\n",
       "    </tr>\n",
       "    <tr>\n",
       "      <th>duration</th>\n",
       "      <td>24.7</td>\n",
       "    </tr>\n",
       "    <tr>\n",
       "      <th>seasons</th>\n",
       "      <td>75.3</td>\n",
       "    </tr>\n",
       "  </tbody>\n",
       "</table>\n",
       "</div>"
      ],
      "text/plain": [
       "          % of Missing Values\n",
       "country                   9.6\n",
       "duration                 24.7\n",
       "seasons                  75.3"
      ]
     },
     "execution_count": 8,
     "metadata": {},
     "output_type": "execute_result"
    }
   ],
   "source": [
    "# missing percentage\n",
    "missing_percent = round(ott.isna().mean() * 100, 1)\n",
    "pd.DataFrame(missing_percent[missing_percent > 0], columns=['% of Missing Values'])"
   ]
  },
  {
   "cell_type": "code",
   "execution_count": 9,
   "metadata": {},
   "outputs": [
    {
     "data": {
      "text/html": [
       "<div>\n",
       "<style scoped>\n",
       "    .dataframe tbody tr th:only-of-type {\n",
       "        vertical-align: middle;\n",
       "    }\n",
       "\n",
       "    .dataframe tbody tr th {\n",
       "        vertical-align: top;\n",
       "    }\n",
       "\n",
       "    .dataframe thead th {\n",
       "        text-align: right;\n",
       "    }\n",
       "</style>\n",
       "<table border=\"1\" class=\"dataframe\">\n",
       "  <thead>\n",
       "    <tr style=\"text-align: right;\">\n",
       "      <th></th>\n",
       "      <th>% of data</th>\n",
       "    </tr>\n",
       "  </thead>\n",
       "  <tbody>\n",
       "    <tr>\n",
       "      <th>Movie</th>\n",
       "      <td>75.3</td>\n",
       "    </tr>\n",
       "    <tr>\n",
       "      <th>TV Show</th>\n",
       "      <td>24.7</td>\n",
       "    </tr>\n",
       "  </tbody>\n",
       "</table>\n",
       "</div>"
      ],
      "text/plain": [
       "         % of data\n",
       "Movie         75.3\n",
       "TV Show       24.7"
      ]
     },
     "execution_count": 9,
     "metadata": {},
     "output_type": "execute_result"
    }
   ],
   "source": [
    "# round(pd.DataFrame(ott.type.value_counts())*100 / len(ott),1)\n",
    "pd.DataFrame(round(ott.type.value_counts()*100 / len(ott),1)).rename({'type':'% of data'},axis=1)"
   ]
  },
  {
   "cell_type": "code",
   "execution_count": 10,
   "metadata": {},
   "outputs": [
    {
     "data": {
      "image/png": "[encoded data removed]",
      "text/plain": [
       "<Figure size 900x360 with 1 Axes>"
      ]
     },
     "metadata": {},
     "output_type": "display_data"
    }
   ],
   "source": [
    "fig, ax = plt.subplots(figsize=(10,4), dpi=90)\n",
    "ax.spines['top'].set_visible(False)\n",
    "ax.spines['right'].set_visible(False)\n",
    "ax.spines['left'].set_visible(False)\n",
    "ax.tick_params(bottom=False)\n",
    "ax.get_yaxis().set_visible(False)\n",
    "\n",
    "plt.pie(ott.type.value_counts(),colors=custom_palette1,labels=['Movies','TV Show'], autopct='%.0f%%');\n",
    "\n",
    "fig.suptitle('Proportion of types', fontsize=15, color = '#ff4800');"
   ]
  },
  {
   "cell_type": "markdown",
   "metadata": {},
   "source": []
  },
  {
   "cell_type": "markdown",
   "metadata": {},
   "source": [
    "Movies have duration and TV shows have seasons"
   ]
  },
  {
   "cell_type": "code",
   "execution_count": 11,
   "metadata": {},
   "outputs": [
    {
     "data": {
      "text/plain": [
       "2021"
      ]
     },
     "execution_count": 11,
     "metadata": {},
     "output_type": "execute_result"
    }
   ],
   "source": [
    "ott.release_year.min() # 1920\n",
    "ott.release_year.max() # 2021"
   ]
  },
  {
   "cell_type": "code",
   "execution_count": 12,
   "metadata": {},
   "outputs": [],
   "source": [
    "bins = [0, 1940, 1960, 1980, 2000, 2020,np.inf]\n",
    "names = ['1920-1940','1940-1960','1960-1980','1980-2000','2000-2020','>2020']\n",
    "\n",
    "ott['release_year_category'] = pd.cut(ott['release_year'], bins, labels=names)"
   ]
  },
  {
   "cell_type": "code",
   "execution_count": 13,
   "metadata": {},
   "outputs": [
    {
     "data": {
      "image/png": "[encoded data removed]",
      "text/plain": [
       "<Figure size 900x360 with 1 Axes>"
      ]
     },
     "metadata": {
      "needs_background": "light"
     },
     "output_type": "display_data"
    }
   ],
   "source": [
    "release_year = ott['release_year_category'].value_counts().sort_values()\n",
    "fig, ax = plt.subplots(figsize=(10,4), dpi=90)\n",
    "ax.spines['top'].set_visible(False)\n",
    "ax.spines['right'].set_visible(False)\n",
    "ax.spines['left'].set_visible(False)\n",
    "ax.tick_params(bottom=False)\n",
    "ax.get_yaxis().set_visible(False)\n",
    "\n",
    "sns.countplot(data=ott, x='release_year_category', palette=custom_palette1);\n",
    "\n",
    "# add values on top of each bar\n",
    "ax.bar_label(ax.containers[0])\n",
    "\n",
    "ax.set_xlabel('Release Year', fontsize=13, color = '#ff4800');\n",
    "fig.suptitle('Content of OTT based on their release year', fontsize=15, color = '#ff4800');"
   ]
  },
  {
   "cell_type": "markdown",
   "metadata": {},
   "source": [
    "OTT has more contents in the years 2000-2020. "
   ]
  },
  {
   "cell_type": "code",
   "execution_count": 14,
   "metadata": {},
   "outputs": [
    {
     "data": {
      "text/plain": [
       "20"
      ]
     },
     "execution_count": 14,
     "metadata": {},
     "output_type": "execute_result"
    }
   ],
   "source": [
    "# number of unique years in each category\n",
    "len(ott[(ott.release_year > 0) & (ott.release_year <=1940)]['release_year'].unique())"
   ]
  },
  {
   "cell_type": "markdown",
   "metadata": {},
   "source": [
    "OTT has content in all the years falling under each category starting from 1920. The numbers in each category corresponds to content spread over 20 years except for >2020 which has only 1. "
   ]
  },
  {
   "cell_type": "code",
   "execution_count": 15,
   "metadata": {},
   "outputs": [],
   "source": [
    "release_per_year_category = round(ott['release_year_category'].value_counts().loc[['1920-1940','1940-1960','1960-1980','1980-2000','2000-2020']] / 20,0)\n",
    "release_per_year_category.loc['>2020'] = 2159"
   ]
  },
  {
   "cell_type": "code",
   "execution_count": 16,
   "metadata": {},
   "outputs": [],
   "source": [
    "release_per_catgory = pd.DataFrame(release_per_year_category).rename({'release_year_category':'num_per_cat'},axis=1)"
   ]
  },
  {
   "cell_type": "code",
   "execution_count": 17,
   "metadata": {},
   "outputs": [
    {
     "data": {
      "text/plain": [
       "1920-1940      11.0\n",
       "1940-1960      22.0\n",
       "1960-1980      26.0\n",
       "1980-2000      78.0\n",
       "2000-2020     751.0\n",
       ">2020        2159.0\n",
       "Name: num_per_cat, dtype: float64"
      ]
     },
     "execution_count": 17,
     "metadata": {},
     "output_type": "execute_result"
    }
   ],
   "source": [
    "release_per_catgory['num_per_cat']"
   ]
  },
  {
   "cell_type": "code",
   "execution_count": 18,
   "metadata": {},
   "outputs": [
    {
     "data": {
      "text/plain": [
       "CategoricalIndex(['1920-1940', '1940-1960', '1960-1980', '1980-2000',\n",
       "                  '2000-2020', '>2020'],\n",
       "                 categories=['1920-1940', '1940-1960', '1960-1980', '1980-2000', '2000-2020', '>2020'], ordered=True, dtype='category')"
      ]
     },
     "execution_count": 18,
     "metadata": {},
     "output_type": "execute_result"
    }
   ],
   "source": [
    "release_per_catgory.index"
   ]
  },
  {
   "cell_type": "code",
   "execution_count": 19,
   "metadata": {},
   "outputs": [
    {
     "data": {
      "image/png": "[encoded data removed]",
      "text/plain": [
       "<Figure size 900x360 with 1 Axes>"
      ]
     },
     "metadata": {
      "needs_background": "light"
     },
     "output_type": "display_data"
    }
   ],
   "source": [
    "fig, ax = plt.subplots(figsize=(10,4), dpi=90)\n",
    "ax.spines['top'].set_visible(False)\n",
    "ax.spines['right'].set_visible(False)\n",
    "ax.spines['left'].set_visible(False)\n",
    "ax.tick_params(bottom=False)\n",
    "ax.get_yaxis().set_visible(False)\n",
    "\n",
    "sns.barplot(data=release_per_catgory, x=release_per_catgory.index,y='num_per_cat', palette=custom_palette1);\n",
    "\n",
    "ax.bar_label(ax.containers[0])\n",
    "\n",
    "ax.set_xlabel('Release Year', fontsize=13, color = '#ff4800');\n",
    "fig.suptitle('Content in OTT per release year in each category', fontsize=15, color = '#ff4800');"
   ]
  },
  {
   "cell_type": "markdown",
   "metadata": {},
   "source": [
    "The number of contents in OTT per year in each category is increasing exponentially"
   ]
  },
  {
   "cell_type": "code",
   "execution_count": 20,
   "metadata": {},
   "outputs": [],
   "source": [
    "exp_fit_x = release_per_catgory.loc[['1920-1940', '1940-1960', '1960-1980', '1980-2000',\n",
    "                  '2000-2020']]"
   ]
  },
  {
   "cell_type": "code",
   "execution_count": 21,
   "metadata": {},
   "outputs": [
    {
     "data": {
      "image/png": "[encoded data removed]",
      "text/plain": [
       "<Figure size 432x288 with 1 Axes>"
      ]
     },
     "metadata": {
      "needs_background": "light"
     },
     "output_type": "display_data"
    }
   ],
   "source": [
    "plt.plot(exp_fit_x.num_per_cat,marker='.',color='k')\n",
    "plt.xticks(rotation=90);"
   ]
  },
  {
   "cell_type": "code",
   "execution_count": 22,
   "metadata": {},
   "outputs": [],
   "source": [
    "def monoExp(x, m, t, b):\n",
    "    return m * np.exp(t * x) + b"
   ]
  },
  {
   "cell_type": "code",
   "execution_count": 23,
   "metadata": {},
   "outputs": [],
   "source": [
    "p0 = [1,0.1,50]\n",
    "params, cv = scipy.optimize.curve_fit(monoExp, range(len(exp_fit_x.num_per_cat)), \n",
    "                                      exp_fit_x.num_per_cat,\n",
    "                                      p0=p0,maxfev=10000)"
   ]
  },
  {
   "cell_type": "code",
   "execution_count": 24,
   "metadata": {},
   "outputs": [],
   "source": [
    "m, t, b = params"
   ]
  },
  {
   "cell_type": "code",
   "execution_count": 25,
   "metadata": {},
   "outputs": [
    {
     "data": {
      "text/plain": [
       "[<matplotlib.lines.Line2D at 0x7f350bfeed60>]"
      ]
     },
     "execution_count": 25,
     "metadata": {},
     "output_type": "execute_result"
    },
    {
     "data": {
      "image/png": "[encoded data removed]",
      "text/plain": [
       "<Figure size 432x288 with 1 Axes>"
      ]
     },
     "metadata": {
      "needs_background": "light"
     },
     "output_type": "display_data"
    }
   ],
   "source": [
    "plt.plot(release_per_catgory.num_per_cat, '.', label=\"data\")\n",
    "plt.plot(monoExp(range(len(release_per_catgory.num_per_cat)), m, t, b), '--', label=\"fitted\")"
   ]
  },
  {
   "cell_type": "code",
   "execution_count": 26,
   "metadata": {},
   "outputs": [
    {
     "data": {
      "text/plain": [
       "8836"
      ]
     },
     "execution_count": 26,
     "metadata": {},
     "output_type": "execute_result"
    }
   ],
   "source": [
    "round(monoExp(range(len(release_per_catgory.num_per_cat)), m, t, b)[-1])"
   ]
  },
  {
   "cell_type": "code",
   "execution_count": 27,
   "metadata": {},
   "outputs": [
    {
     "name": "stdout",
     "output_type": "stream",
     "text": [
      "R² = 0.999827705835495\n"
     ]
    }
   ],
   "source": [
    "squaredDiffs = np.square(exp_fit_x.num_per_cat - monoExp(range(len(exp_fit_x.num_per_cat)), m, t, b))\n",
    "squaredDiffsFromMean = np.square(exp_fit_x.num_per_cat - np.mean(exp_fit_x.num_per_cat))\n",
    "rSquared = 1 - np.sum(squaredDiffs) / np.sum(squaredDiffsFromMean)\n",
    "print(f\"R² = {rSquared}\")"
   ]
  },
  {
   "cell_type": "markdown",
   "metadata": {},
   "source": [
    "The fit explains 99% of the variance in the data"
   ]
  },
  {
   "cell_type": "code",
   "execution_count": 28,
   "metadata": {},
   "outputs": [
    {
     "data": {
      "text/plain": [
       "Prime      9668\n",
       "Netflix    8807\n",
       "Disney+    1450\n",
       "Name: platform, dtype: int64"
      ]
     },
     "execution_count": 28,
     "metadata": {},
     "output_type": "execute_result"
    }
   ],
   "source": [
    "ott.platform.value_counts()"
   ]
  },
  {
   "cell_type": "code",
   "execution_count": 29,
   "metadata": {},
   "outputs": [
    {
     "data": {
      "image/png": "[encoded data removed]",
      "text/plain": [
       "<Figure size 900x360 with 1 Axes>"
      ]
     },
     "metadata": {},
     "output_type": "display_data"
    }
   ],
   "source": [
    "fig, ax = plt.subplots(figsize=(10,4), dpi=90)\n",
    "ax.spines['top'].set_visible(False)\n",
    "ax.spines['right'].set_visible(False)\n",
    "ax.spines['left'].set_visible(False)\n",
    "ax.tick_params(bottom=False)\n",
    "ax.get_yaxis().set_visible(False)\n",
    "\n",
    "plt.pie(ott.platform.value_counts(),colors=custom_palette1,labels=['Prime','Netflix','Disney+'], autopct='%.0f%%');\n",
    "\n",
    "fig.suptitle('Proportion of platforms', fontsize=15, color = '#ff4800');"
   ]
  },
  {
   "cell_type": "markdown",
   "metadata": {},
   "source": [
    "**Between the years 2020-2040, we can expect 1,76,720 new contents just in Netflix, PrimeVideo and Disney+**<br>\n",
    "**Of these 86,593 will be in Prime, 77,757 in Netflix, and 12,370 in Disney+**"
   ]
  },
  {
   "cell_type": "code",
   "execution_count": 30,
   "metadata": {},
   "outputs": [
    {
     "data": {
      "text/plain": [
       "1     17185\n",
       "2      1850\n",
       "3       561\n",
       "4       197\n",
       "5        85\n",
       "6        26\n",
       "7        10\n",
       "8         6\n",
       "11        2\n",
       "12        1\n",
       "10        1\n",
       "15        1\n",
       "Name: num_country, dtype: int64"
      ]
     },
     "execution_count": 30,
     "metadata": {},
     "output_type": "execute_result"
    }
   ],
   "source": [
    "ott.num_country.value_counts()"
   ]
  },
  {
   "cell_type": "code",
   "execution_count": 36,
   "metadata": {},
   "outputs": [],
   "source": [
    "ott['countries'] = ott['country'].astype('str').apply(ott_cleaning.str2list)"
   ]
  },
  {
   "cell_type": "code",
   "execution_count": 40,
   "metadata": {},
   "outputs": [],
   "source": [
    "ott_country_explode = ott.explode('countries',ignore_index=True)"
   ]
  },
  {
   "cell_type": "code",
   "execution_count": 43,
   "metadata": {},
   "outputs": [
    {
     "data": {
      "text/plain": [
       "153"
      ]
     },
     "execution_count": 43,
     "metadata": {},
     "output_type": "execute_result"
    }
   ],
   "source": [
    "len(ott_country_explode['countries'].unique())"
   ]
  },
  {
   "cell_type": "code",
   "execution_count": 67,
   "metadata": {},
   "outputs": [
    {
     "data": {
      "text/html": [
       "<div>\n",
       "<style scoped>\n",
       "    .dataframe tbody tr th:only-of-type {\n",
       "        vertical-align: middle;\n",
       "    }\n",
       "\n",
       "    .dataframe tbody tr th {\n",
       "        vertical-align: top;\n",
       "    }\n",
       "\n",
       "    .dataframe thead th {\n",
       "        text-align: right;\n",
       "    }\n",
       "</style>\n",
       "<table border=\"1\" class=\"dataframe\">\n",
       "  <thead>\n",
       "    <tr style=\"text-align: right;\">\n",
       "      <th></th>\n",
       "      <th>num_country</th>\n",
       "    </tr>\n",
       "  </thead>\n",
       "  <tbody>\n",
       "    <tr>\n",
       "      <th>1</th>\n",
       "      <td>17185</td>\n",
       "    </tr>\n",
       "    <tr>\n",
       "      <th>2</th>\n",
       "      <td>1850</td>\n",
       "    </tr>\n",
       "    <tr>\n",
       "      <th>3</th>\n",
       "      <td>561</td>\n",
       "    </tr>\n",
       "    <tr>\n",
       "      <th>4</th>\n",
       "      <td>197</td>\n",
       "    </tr>\n",
       "    <tr>\n",
       "      <th>5</th>\n",
       "      <td>85</td>\n",
       "    </tr>\n",
       "    <tr>\n",
       "      <th>6</th>\n",
       "      <td>26</td>\n",
       "    </tr>\n",
       "    <tr>\n",
       "      <th>7</th>\n",
       "      <td>10</td>\n",
       "    </tr>\n",
       "    <tr>\n",
       "      <th>8</th>\n",
       "      <td>6</td>\n",
       "    </tr>\n",
       "    <tr>\n",
       "      <th>11</th>\n",
       "      <td>2</td>\n",
       "    </tr>\n",
       "    <tr>\n",
       "      <th>12</th>\n",
       "      <td>1</td>\n",
       "    </tr>\n",
       "    <tr>\n",
       "      <th>10</th>\n",
       "      <td>1</td>\n",
       "    </tr>\n",
       "    <tr>\n",
       "      <th>15</th>\n",
       "      <td>1</td>\n",
       "    </tr>\n",
       "  </tbody>\n",
       "</table>\n",
       "</div>"
      ],
      "text/plain": [
       "    num_country\n",
       "1         17185\n",
       "2          1850\n",
       "3           561\n",
       "4           197\n",
       "5            85\n",
       "6            26\n",
       "7            10\n",
       "8             6\n",
       "11            2\n",
       "12            1\n",
       "10            1\n",
       "15            1"
      ]
     },
     "execution_count": 67,
     "metadata": {},
     "output_type": "execute_result"
    }
   ],
   "source": [
    "pd.DataFrame(ott['num_country'].value_counts().sort_values(ascending=False))"
   ]
  },
  {
   "cell_type": "code",
   "execution_count": 61,
   "metadata": {},
   "outputs": [],
   "source": [
    "country_valcount = pd.DataFrame(ott_country_explode['countries'].value_counts().sort_values(ascending=False))\n",
    "country_valcount = country_valcount[:11].drop('nan')"
   ]
  },
  {
   "cell_type": "code",
   "execution_count": 65,
   "metadata": {},
   "outputs": [
    {
     "data": {
      "image/png": "[encoded data removed]",
      "text/plain": [
       "<Figure size 900x360 with 1 Axes>"
      ]
     },
     "metadata": {
      "needs_background": "light"
     },
     "output_type": "display_data"
    }
   ],
   "source": [
    "fig, ax = plt.subplots(figsize=(10,4), dpi=90)\n",
    "ax.spines['top'].set_visible(False)\n",
    "ax.spines['right'].set_visible(False)\n",
    "ax.spines['left'].set_visible(False)\n",
    "ax.tick_params(bottom=False)\n",
    "ax.get_yaxis().set_visible(False)\n",
    "\n",
    "sns.barplot(data=country_valcount, x=country_valcount.index,y='countries', palette=custom_palette1);\n",
    "plt.xticks(rotation=90)\n",
    "\n",
    "# add values on top of each bar\n",
    "ax.bar_label(ax.containers[0])\n",
    "\n",
    "ax.set_xlabel('Country of origin', fontsize=13, color = '#ff4800');\n",
    "fig.suptitle('Content of OTT based on the country of origin', fontsize=15, color = '#ff4800');"
   ]
  },
  {
   "cell_type": "markdown",
   "metadata": {},
   "source": [
    "**Of the 19,925 titles, over 50% has USA as country of origin followed by India. Some titles are produced in multiple countries**"
   ]
  },
  {
   "cell_type": "code",
   "execution_count": 80,
   "metadata": {},
   "outputs": [
    {
     "data": {
      "image/png": "[encoded data removed]",
      "text/plain": [
       "<Figure size 900x360 with 1 Axes>"
      ]
     },
     "metadata": {
      "needs_background": "light"
     },
     "output_type": "display_data"
    }
   ],
   "source": [
    "ott_num_countries = pd.DataFrame(ott['num_country'].value_counts().sort_values(ascending=False))[:5]\n",
    "fig, ax = plt.subplots(figsize=(10,4), dpi=90)\n",
    "ax.spines['top'].set_visible(False)\n",
    "ax.spines['right'].set_visible(False)\n",
    "ax.spines['left'].set_visible(False)\n",
    "ax.tick_params(bottom=False)\n",
    "ax.get_yaxis().set_visible(False)\n",
    "\n",
    "sns.barplot(data=ott_num_countries, y='num_country', x=ott_num_countries.index,ci = None , palette=custom_palette1);\n",
    "\n",
    "# add values on top of each bar\n",
    "ax.bar_label(ax.containers[0])\n",
    "\n",
    "ax.set_xlabel('Titles per number of countries of origin', fontsize=13, color = '#ff4800');\n",
    "fig.suptitle('Content of OTT based on the number of countries of origin', fontsize=15, color = '#ff4800');"
   ]
  },
  {
   "cell_type": "code",
   "execution_count": 106,
   "metadata": {},
   "outputs": [],
   "source": [
    "netflix = ott[ott['platform'] == 'Netflix'].drop('Unnamed: 0',axis=1)\n",
    "prime = ott[ott['platform'] == 'Prime'].drop('Unnamed: 0',axis=1)\n",
    "disney = ott[ott['platform'] == 'Disney+'].drop('Unnamed: 0',axis=1)"
   ]
  },
  {
   "cell_type": "code",
   "execution_count": 109,
   "metadata": {},
   "outputs": [],
   "source": [
    "netflix_ncountry = pd.DataFrame(round(netflix.num_country.value_counts()*100 / len(netflix),0))\n",
    "prime_ncountry = pd.DataFrame(round(prime.num_country.value_counts()*100 / len(prime),0))\n",
    "disney_ncountry = pd.DataFrame(round(disney.num_country.value_counts()*100 / len(disney),0))"
   ]
  },
  {
   "cell_type": "code",
   "execution_count": 116,
   "metadata": {},
   "outputs": [],
   "source": [
    "netflix_ncountry.loc[11] = 0.0\n",
    "netflix_ncountry.loc[12] = 0.0\n",
    "netflix_ncountry.loc[13] = 0.0\n",
    "netflix_ncountry.loc[14] = 0.0\n",
    "netflix_ncountry.loc[15] = 0.0\n",
    "prime_ncountry.loc[12] = 0.0\n",
    "prime_ncountry.loc[13] = 0.0\n",
    "prime_ncountry.loc[14] = 0.0\n",
    "prime_ncountry.loc[15] = 0.0"
   ]
  },
  {
   "cell_type": "code",
   "execution_count": 131,
   "metadata": {},
   "outputs": [],
   "source": [
    "netflix_ncountry['platform'] = 'Netflix'\n",
    "prime_ncountry['platform'] = 'Prime'\n",
    "disney_ncountry['platform'] = 'Disney+'\n",
    "\n",
    "ott_ncountry = netflix_ncountry.append(prime_ncountry).append(disney_ncountry)"
   ]
  },
  {
   "cell_type": "code",
   "execution_count": 171,
   "metadata": {},
   "outputs": [
    {
     "data": {
      "image/png": "[encoded data removed]",
      "text/plain": [
       "<Figure size 648x216 with 3 Axes>"
      ]
     },
     "metadata": {
      "needs_background": "light"
     },
     "output_type": "display_data"
    }
   ],
   "source": [
    "# fig, ax = plt.subplots(figsize=(10,4), dpi=90)\n",
    "# ax.spines['top'].set_visible(False)\n",
    "# ax.spines['right'].set_visible(False)\n",
    "# ax.spines['left'].set_visible(False)\n",
    "# ax.tick_params(bottom=False)\n",
    "# ax.get_yaxis().set_visible(False)\n",
    "g = sns.FacetGrid(ott_ncountry, col=\"platform\", hue=\"platform\")\n",
    "g.fig.suptitle('% of contry produced in n countries', fontsize=15, color = '#ff4800')\n",
    "\n",
    "g.map(sns.barplot, data = ott_ncountry,y='num_country',x=ott_ncountry.index,ci=None)\n",
    "# sns.barplot(data=ott_ncountry, y='num_country', x=ott_ncountry.index,ci = None , palette=custom_palette1);\n",
    "# plt.xlim(-0.5,3.5)\n",
    "\n",
    "# add values on top of each bar\n",
    "# ax.bar_label(ax.containers[0])\n",
    "# ax.bar_label(ax.containers[1])\n",
    "# ax.bar_label(ax.containers[2])\n",
    "\n",
    "g.set_axis_labels(\"n countries\", \"% of content\");\n"
   ]
  },
  {
   "cell_type": "markdown",
   "metadata": {},
   "source": [
    "**80% of the content in each platform is produced only in one country and less than 15% are produced in two countries.**"
   ]
  },
  {
   "cell_type": "code",
   "execution_count": 175,
   "metadata": {},
   "outputs": [],
   "source": [
    "ott['genres_list'] = ott['genres'].astype('str').apply(ott_cleaning.str2list)"
   ]
  },
  {
   "cell_type": "code",
   "execution_count": 178,
   "metadata": {},
   "outputs": [
    {
     "data": {
      "text/plain": [
       "102"
      ]
     },
     "execution_count": 178,
     "metadata": {},
     "output_type": "execute_result"
    }
   ],
   "source": [
    "len(ott_genres_explode['genres_list'].unique())"
   ]
  },
  {
   "cell_type": "code",
   "execution_count": 180,
   "metadata": {},
   "outputs": [],
   "source": [
    "genre_valcount = pd.DataFrame(ott_genres_explode['genres_list'].value_counts().sort_values(ascending=False))\n",
    "# country_valcount = country_valcount[:11].drop('nan')"
   ]
  },
  {
   "cell_type": "code",
   "execution_count": 185,
   "metadata": {},
   "outputs": [],
   "source": [
    "# with open('cleaning_criteria/genre2convert','w') as gf:\n",
    "#     for g in ott_genres_explode['genres_list'].unique():\n",
    "#         gf.write('{g}\\n'.format(g=g))"
   ]
  },
  {
   "cell_type": "code",
   "execution_count": 188,
   "metadata": {},
   "outputs": [],
   "source": [
    "genre2convert = pd.read_csv('cleaning_criteria/genre2convert',delimiter='|')"
   ]
  },
  {
   "cell_type": "code",
   "execution_count": 193,
   "metadata": {},
   "outputs": [],
   "source": [
    "g2replace = genre2convert.Old.to_list()"
   ]
  },
  {
   "cell_type": "code",
   "execution_count": 194,
   "metadata": {},
   "outputs": [],
   "source": [
    "g2replacewith = genre2convert.New.to_list()"
   ]
  },
  {
   "cell_type": "code",
   "execution_count": 213,
   "metadata": {},
   "outputs": [],
   "source": [
    "def convert_genre(gs,g2replace=g2replace,g2replacewith=g2replacewith):\n",
    "    for g in gs:\n",
    "        if g in g2replace:\n",
    "            gind = g2replace.index(g)\n",
    "            return [g2replacewith[gind].strip(' ')]"
   ]
  },
  {
   "cell_type": "code",
   "execution_count": 215,
   "metadata": {},
   "outputs": [],
   "source": [
    "ott['genre'] = ott['genres_list'].apply(convert_genre)"
   ]
  },
  {
   "cell_type": "code",
   "execution_count": 241,
   "metadata": {},
   "outputs": [],
   "source": [
    "ott_genre_explode = ott.explode('genre',ignore_index=True)\n",
    "genre_valcount = pd.DataFrame(ott_genre_explode['genre'].value_counts().sort_values(ascending=False))\n",
    "genre_valcount = genre_valcount[:11]"
   ]
  },
  {
   "cell_type": "code",
   "execution_count": 243,
   "metadata": {},
   "outputs": [
    {
     "data": {
      "image/png": "[encoded data removed]",
      "text/plain": [
       "<Figure size 900x360 with 1 Axes>"
      ]
     },
     "metadata": {
      "needs_background": "light"
     },
     "output_type": "display_data"
    }
   ],
   "source": [
    "fig, ax = plt.subplots(figsize=(10,4), dpi=90)\n",
    "ax.spines['top'].set_visible(False)\n",
    "ax.spines['right'].set_visible(False)\n",
    "ax.spines['left'].set_visible(False)\n",
    "ax.tick_params(bottom=False)\n",
    "ax.get_yaxis().set_visible(False)\n",
    "\n",
    "sns.barplot(data=genre_valcount, x=genre_valcount.index,y='genre', palette=custom_palette1);\n",
    "plt.xticks(rotation=90)\n",
    "\n",
    "# add values on top of each bar\n",
    "ax.bar_label(ax.containers[0])\n",
    "\n",
    "ax.set_xlabel('Genre', fontsize=13, color = '#ff4800');\n",
    "fig.suptitle('Content of OTT based on genre', fontsize=15, color = '#ff4800');"
   ]
  },
  {
   "cell_type": "code",
   "execution_count": null,
   "metadata": {},
   "outputs": [],
   "source": []
  }
 ],
 "metadata": {
  "kernelspec": {
   "display_name": "Python 3",
   "language": "python",
   "name": "python3"
  },
  "language_info": {
   "codemirror_mode": {
    "name": "ipython",
    "version": 3
   },
   "file_extension": ".py",
   "mimetype": "text/x-python",
   "name": "python",
   "nbconvert_exporter": "python",
   "pygments_lexer": "ipython3",
   "version": "3.8.10"
  }
 },
 "nbformat": 4,
 "nbformat_minor": 4
}
